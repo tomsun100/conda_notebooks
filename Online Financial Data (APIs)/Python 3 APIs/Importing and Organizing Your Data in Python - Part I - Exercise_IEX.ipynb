{
 "cells": [
  {
   "cell_type": "markdown",
   "metadata": {},
   "source": [
    "## Importing and Organizing Your Data in Python - Part I"
   ]
  },
  {
   "cell_type": "markdown",
   "metadata": {},
   "source": [
    "*Suggested Answers follow (usually there are multiple ways to solve a problem in Python).*"
   ]
  },
  {
   "cell_type": "markdown",
   "metadata": {},
   "source": [
    "a. Create a series object of 10 randomly generated integer values."
   ]
  },
  {
   "cell_type": "code",
   "execution_count": 1,
   "metadata": {},
   "outputs": [],
   "source": [
    "import numpy as np\n",
    "import pandas as pd\n",
    "import os"
   ]
  },
  {
   "cell_type": "code",
   "execution_count": 2,
   "metadata": {},
   "outputs": [],
   "source": [
    "ser = pd.Series(np.random.random(10), name = \"Column 01\")"
   ]
  },
  {
   "cell_type": "code",
   "execution_count": 3,
   "metadata": {},
   "outputs": [
    {
     "data": {
      "text/plain": [
       "0    0.086409\n",
       "1    0.104939\n",
       "2    0.001603\n",
       "3    0.008454\n",
       "4    0.595768\n",
       "5    0.862220\n",
       "6    0.807619\n",
       "7    0.040381\n",
       "8    0.481832\n",
       "9    0.795351\n",
       "Name: Column 01, dtype: float64"
      ]
     },
     "execution_count": 3,
     "metadata": {},
     "output_type": "execute_result"
    }
   ],
   "source": [
    "ser"
   ]
  },
  {
   "cell_type": "markdown",
   "metadata": {},
   "source": [
    "b. Extract data from IEX for Ford from the 1st of January 2015. The ticker you need is ‘F’. "
   ]
  },
  {
   "cell_type": "code",
   "execution_count": 4,
   "metadata": {},
   "outputs": [],
   "source": [
    "from pandas_datareader import data as wb\n",
    "os.environ[\"IEX_API_KEY\"] = \"sk_6ef715bfc2c54296bdf79b8b0590ba8b\""
   ]
  },
  {
   "cell_type": "code",
   "execution_count": 5,
   "metadata": {},
   "outputs": [],
   "source": [
    "#import inspect\n",
    "#m = inspect.getmembers(pandas_datareader)\n",
    "#print(m)\n",
    "F = wb.DataReader('F', data_source='iex', start='2015-1-1')"
   ]
  },
  {
   "cell_type": "code",
   "execution_count": 6,
   "metadata": {},
   "outputs": [
    {
     "data": {
      "text/html": [
       "<div>\n",
       "<style scoped>\n",
       "    .dataframe tbody tr th:only-of-type {\n",
       "        vertical-align: middle;\n",
       "    }\n",
       "\n",
       "    .dataframe tbody tr th {\n",
       "        vertical-align: top;\n",
       "    }\n",
       "\n",
       "    .dataframe thead th {\n",
       "        text-align: right;\n",
       "    }\n",
       "</style>\n",
       "<table border=\"1\" class=\"dataframe\">\n",
       "  <thead>\n",
       "    <tr style=\"text-align: right;\">\n",
       "      <th></th>\n",
       "      <th>open</th>\n",
       "      <th>high</th>\n",
       "      <th>low</th>\n",
       "      <th>close</th>\n",
       "      <th>volume</th>\n",
       "    </tr>\n",
       "    <tr>\n",
       "      <th>date</th>\n",
       "      <th></th>\n",
       "      <th></th>\n",
       "      <th></th>\n",
       "      <th></th>\n",
       "      <th></th>\n",
       "    </tr>\n",
       "  </thead>\n",
       "  <tbody>\n",
       "    <tr>\n",
       "      <td>2015-01-05</td>\n",
       "      <td>15.12</td>\n",
       "      <td>15.13</td>\n",
       "      <td>14.69</td>\n",
       "      <td>14.76</td>\n",
       "      <td>44079745</td>\n",
       "    </tr>\n",
       "    <tr>\n",
       "      <td>2015-01-06</td>\n",
       "      <td>14.88</td>\n",
       "      <td>14.90</td>\n",
       "      <td>14.38</td>\n",
       "      <td>14.62</td>\n",
       "      <td>32981627</td>\n",
       "    </tr>\n",
       "    <tr>\n",
       "      <td>2015-01-07</td>\n",
       "      <td>14.78</td>\n",
       "      <td>15.09</td>\n",
       "      <td>14.77</td>\n",
       "      <td>15.04</td>\n",
       "      <td>26065329</td>\n",
       "    </tr>\n",
       "    <tr>\n",
       "      <td>2015-01-08</td>\n",
       "      <td>15.40</td>\n",
       "      <td>15.48</td>\n",
       "      <td>15.23</td>\n",
       "      <td>15.42</td>\n",
       "      <td>33943398</td>\n",
       "    </tr>\n",
       "    <tr>\n",
       "      <td>2015-01-09</td>\n",
       "      <td>15.46</td>\n",
       "      <td>15.47</td>\n",
       "      <td>15.06</td>\n",
       "      <td>15.21</td>\n",
       "      <td>23420750</td>\n",
       "    </tr>\n",
       "    <tr>\n",
       "      <td>...</td>\n",
       "      <td>...</td>\n",
       "      <td>...</td>\n",
       "      <td>...</td>\n",
       "      <td>...</td>\n",
       "      <td>...</td>\n",
       "    </tr>\n",
       "    <tr>\n",
       "      <td>2019-12-26</td>\n",
       "      <td>9.47</td>\n",
       "      <td>9.49</td>\n",
       "      <td>9.43</td>\n",
       "      <td>9.45</td>\n",
       "      <td>28982311</td>\n",
       "    </tr>\n",
       "    <tr>\n",
       "      <td>2019-12-27</td>\n",
       "      <td>9.45</td>\n",
       "      <td>9.46</td>\n",
       "      <td>9.35</td>\n",
       "      <td>9.36</td>\n",
       "      <td>28273603</td>\n",
       "    </tr>\n",
       "    <tr>\n",
       "      <td>2019-12-30</td>\n",
       "      <td>9.34</td>\n",
       "      <td>9.35</td>\n",
       "      <td>9.23</td>\n",
       "      <td>9.25</td>\n",
       "      <td>36085418</td>\n",
       "    </tr>\n",
       "    <tr>\n",
       "      <td>2019-12-31</td>\n",
       "      <td>9.25</td>\n",
       "      <td>9.33</td>\n",
       "      <td>9.24</td>\n",
       "      <td>9.30</td>\n",
       "      <td>32345377</td>\n",
       "    </tr>\n",
       "    <tr>\n",
       "      <td>2020-01-02</td>\n",
       "      <td>9.29</td>\n",
       "      <td>9.42</td>\n",
       "      <td>9.19</td>\n",
       "      <td>9.42</td>\n",
       "      <td>43432239</td>\n",
       "    </tr>\n",
       "  </tbody>\n",
       "</table>\n",
       "<p>1258 rows × 5 columns</p>\n",
       "</div>"
      ],
      "text/plain": [
       "             open   high    low  close    volume\n",
       "date                                            \n",
       "2015-01-05  15.12  15.13  14.69  14.76  44079745\n",
       "2015-01-06  14.88  14.90  14.38  14.62  32981627\n",
       "2015-01-07  14.78  15.09  14.77  15.04  26065329\n",
       "2015-01-08  15.40  15.48  15.23  15.42  33943398\n",
       "2015-01-09  15.46  15.47  15.06  15.21  23420750\n",
       "...           ...    ...    ...    ...       ...\n",
       "2019-12-26   9.47   9.49   9.43   9.45  28982311\n",
       "2019-12-27   9.45   9.46   9.35   9.36  28273603\n",
       "2019-12-30   9.34   9.35   9.23   9.25  36085418\n",
       "2019-12-31   9.25   9.33   9.24   9.30  32345377\n",
       "2020-01-02   9.29   9.42   9.19   9.42  43432239\n",
       "\n",
       "[1258 rows x 5 columns]"
      ]
     },
     "execution_count": 6,
     "metadata": {},
     "output_type": "execute_result"
    }
   ],
   "source": [
    "F"
   ]
  },
  {
   "cell_type": "code",
   "execution_count": null,
   "metadata": {},
   "outputs": [],
   "source": []
  }
 ],
 "metadata": {
  "kernelspec": {
   "display_name": "Python 3",
   "language": "python",
   "name": "python3"
  },
  "language_info": {
   "codemirror_mode": {
    "name": "ipython",
    "version": 3
   },
   "file_extension": ".py",
   "mimetype": "text/x-python",
   "name": "python",
   "nbconvert_exporter": "python",
   "pygments_lexer": "ipython3",
   "version": "3.7.4"
  }
 },
 "nbformat": 4,
 "nbformat_minor": 2
}
