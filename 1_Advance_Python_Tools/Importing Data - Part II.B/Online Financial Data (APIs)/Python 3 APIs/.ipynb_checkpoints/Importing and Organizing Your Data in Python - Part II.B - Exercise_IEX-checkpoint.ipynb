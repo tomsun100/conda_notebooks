{
 "cells": [
  {
   "cell_type": "markdown",
   "metadata": {},
   "source": [
    "## Importing and Organizing Your Data in Python - Part II"
   ]
  },
  {
   "cell_type": "code",
   "execution_count": 2,
   "metadata": {},
   "outputs": [
    {
     "data": {
      "text/html": [
       "<div>\n",
       "<style scoped>\n",
       "    .dataframe tbody tr th:only-of-type {\n",
       "        vertical-align: middle;\n",
       "    }\n",
       "\n",
       "    .dataframe tbody tr th {\n",
       "        vertical-align: top;\n",
       "    }\n",
       "\n",
       "    .dataframe thead th {\n",
       "        text-align: right;\n",
       "    }\n",
       "</style>\n",
       "<table border=\"1\" class=\"dataframe\">\n",
       "  <thead>\n",
       "    <tr style=\"text-align: right;\">\n",
       "      <th></th>\n",
       "      <th>open</th>\n",
       "      <th>high</th>\n",
       "      <th>low</th>\n",
       "      <th>close</th>\n",
       "      <th>volume</th>\n",
       "    </tr>\n",
       "    <tr>\n",
       "      <th>date</th>\n",
       "      <th></th>\n",
       "      <th></th>\n",
       "      <th></th>\n",
       "      <th></th>\n",
       "      <th></th>\n",
       "    </tr>\n",
       "  </thead>\n",
       "  <tbody>\n",
       "    <tr>\n",
       "      <td>2015-01-07</td>\n",
       "      <td>14.78</td>\n",
       "      <td>15.09</td>\n",
       "      <td>14.77</td>\n",
       "      <td>15.04</td>\n",
       "      <td>26065329</td>\n",
       "    </tr>\n",
       "    <tr>\n",
       "      <td>2015-01-08</td>\n",
       "      <td>15.40</td>\n",
       "      <td>15.48</td>\n",
       "      <td>15.23</td>\n",
       "      <td>15.42</td>\n",
       "      <td>33943398</td>\n",
       "    </tr>\n",
       "    <tr>\n",
       "      <td>2015-01-09</td>\n",
       "      <td>15.46</td>\n",
       "      <td>15.47</td>\n",
       "      <td>15.06</td>\n",
       "      <td>15.21</td>\n",
       "      <td>23420750</td>\n",
       "    </tr>\n",
       "    <tr>\n",
       "      <td>2015-01-12</td>\n",
       "      <td>15.31</td>\n",
       "      <td>15.32</td>\n",
       "      <td>15.11</td>\n",
       "      <td>15.22</td>\n",
       "      <td>22750784</td>\n",
       "    </tr>\n",
       "    <tr>\n",
       "      <td>2015-01-13</td>\n",
       "      <td>15.38</td>\n",
       "      <td>15.48</td>\n",
       "      <td>15.08</td>\n",
       "      <td>15.21</td>\n",
       "      <td>26279378</td>\n",
       "    </tr>\n",
       "    <tr>\n",
       "      <td>...</td>\n",
       "      <td>...</td>\n",
       "      <td>...</td>\n",
       "      <td>...</td>\n",
       "      <td>...</td>\n",
       "      <td>...</td>\n",
       "    </tr>\n",
       "    <tr>\n",
       "      <td>2019-12-30</td>\n",
       "      <td>9.34</td>\n",
       "      <td>9.35</td>\n",
       "      <td>9.23</td>\n",
       "      <td>9.25</td>\n",
       "      <td>36085418</td>\n",
       "    </tr>\n",
       "    <tr>\n",
       "      <td>2019-12-31</td>\n",
       "      <td>9.25</td>\n",
       "      <td>9.33</td>\n",
       "      <td>9.24</td>\n",
       "      <td>9.30</td>\n",
       "      <td>32345377</td>\n",
       "    </tr>\n",
       "    <tr>\n",
       "      <td>2020-01-02</td>\n",
       "      <td>9.29</td>\n",
       "      <td>9.42</td>\n",
       "      <td>9.19</td>\n",
       "      <td>9.42</td>\n",
       "      <td>43432239</td>\n",
       "    </tr>\n",
       "    <tr>\n",
       "      <td>2020-01-03</td>\n",
       "      <td>9.31</td>\n",
       "      <td>9.37</td>\n",
       "      <td>9.15</td>\n",
       "      <td>9.21</td>\n",
       "      <td>45059915</td>\n",
       "    </tr>\n",
       "    <tr>\n",
       "      <td>2020-01-06</td>\n",
       "      <td>9.10</td>\n",
       "      <td>9.17</td>\n",
       "      <td>9.06</td>\n",
       "      <td>9.16</td>\n",
       "      <td>43380677</td>\n",
       "    </tr>\n",
       "  </tbody>\n",
       "</table>\n",
       "<p>1258 rows × 5 columns</p>\n",
       "</div>"
      ],
      "text/plain": [
       "             open   high    low  close    volume\n",
       "date                                            \n",
       "2015-01-07  14.78  15.09  14.77  15.04  26065329\n",
       "2015-01-08  15.40  15.48  15.23  15.42  33943398\n",
       "2015-01-09  15.46  15.47  15.06  15.21  23420750\n",
       "2015-01-12  15.31  15.32  15.11  15.22  22750784\n",
       "2015-01-13  15.38  15.48  15.08  15.21  26279378\n",
       "...           ...    ...    ...    ...       ...\n",
       "2019-12-30   9.34   9.35   9.23   9.25  36085418\n",
       "2019-12-31   9.25   9.33   9.24   9.30  32345377\n",
       "2020-01-02   9.29   9.42   9.19   9.42  43432239\n",
       "2020-01-03   9.31   9.37   9.15   9.21  45059915\n",
       "2020-01-06   9.10   9.17   9.06   9.16  43380677\n",
       "\n",
       "[1258 rows x 5 columns]"
      ]
     },
     "execution_count": 2,
     "metadata": {},
     "output_type": "execute_result"
    }
   ],
   "source": [
    "from pandas_datareader import data as wb\n",
    "import os\n",
    "\n",
    "os.environ[\"IEX_API_KEY\"] = \"sk_6ef715bfc2c54296bdf79b8b0590ba8b\"\n",
    "F = wb.DataReader('F', data_source='iex', start='2015-1-1')\n",
    "F"
   ]
  },
  {
   "cell_type": "markdown",
   "metadata": {},
   "source": [
    "Use the “info” method to obtain basic statistics, regarding the data you extracted in the previous exercise (data from Morningstar for Ford starting from the 1st of January 2005 until today). "
   ]
  },
  {
   "cell_type": "code",
   "execution_count": 3,
   "metadata": {},
   "outputs": [
    {
     "name": "stdout",
     "output_type": "stream",
     "text": [
      "<class 'pandas.core.frame.DataFrame'>\n",
      "Index: 1258 entries, 2015-01-07 to 2020-01-06\n",
      "Data columns (total 5 columns):\n",
      "open      1258 non-null float64\n",
      "high      1258 non-null float64\n",
      "low       1258 non-null float64\n",
      "close     1258 non-null float64\n",
      "volume    1258 non-null int64\n",
      "dtypes: float64(4), int64(1)\n",
      "memory usage: 59.0+ KB\n"
     ]
    }
   ],
   "source": [
    "F.info()"
   ]
  },
  {
   "cell_type": "markdown",
   "metadata": {},
   "source": [
    "Apply the “head” and “tail” methods and observe the output. How would you interpret the adjusted closing prices?\n"
   ]
  },
  {
   "cell_type": "code",
   "execution_count": 4,
   "metadata": {},
   "outputs": [
    {
     "data": {
      "text/html": [
       "<div>\n",
       "<style scoped>\n",
       "    .dataframe tbody tr th:only-of-type {\n",
       "        vertical-align: middle;\n",
       "    }\n",
       "\n",
       "    .dataframe tbody tr th {\n",
       "        vertical-align: top;\n",
       "    }\n",
       "\n",
       "    .dataframe thead th {\n",
       "        text-align: right;\n",
       "    }\n",
       "</style>\n",
       "<table border=\"1\" class=\"dataframe\">\n",
       "  <thead>\n",
       "    <tr style=\"text-align: right;\">\n",
       "      <th></th>\n",
       "      <th>open</th>\n",
       "      <th>high</th>\n",
       "      <th>low</th>\n",
       "      <th>close</th>\n",
       "      <th>volume</th>\n",
       "    </tr>\n",
       "    <tr>\n",
       "      <th>date</th>\n",
       "      <th></th>\n",
       "      <th></th>\n",
       "      <th></th>\n",
       "      <th></th>\n",
       "      <th></th>\n",
       "    </tr>\n",
       "  </thead>\n",
       "  <tbody>\n",
       "    <tr>\n",
       "      <td>2015-01-07</td>\n",
       "      <td>14.78</td>\n",
       "      <td>15.09</td>\n",
       "      <td>14.77</td>\n",
       "      <td>15.04</td>\n",
       "      <td>26065329</td>\n",
       "    </tr>\n",
       "    <tr>\n",
       "      <td>2015-01-08</td>\n",
       "      <td>15.40</td>\n",
       "      <td>15.48</td>\n",
       "      <td>15.23</td>\n",
       "      <td>15.42</td>\n",
       "      <td>33943398</td>\n",
       "    </tr>\n",
       "    <tr>\n",
       "      <td>2015-01-09</td>\n",
       "      <td>15.46</td>\n",
       "      <td>15.47</td>\n",
       "      <td>15.06</td>\n",
       "      <td>15.21</td>\n",
       "      <td>23420750</td>\n",
       "    </tr>\n",
       "    <tr>\n",
       "      <td>2015-01-12</td>\n",
       "      <td>15.31</td>\n",
       "      <td>15.32</td>\n",
       "      <td>15.11</td>\n",
       "      <td>15.22</td>\n",
       "      <td>22750784</td>\n",
       "    </tr>\n",
       "    <tr>\n",
       "      <td>2015-01-13</td>\n",
       "      <td>15.38</td>\n",
       "      <td>15.48</td>\n",
       "      <td>15.08</td>\n",
       "      <td>15.21</td>\n",
       "      <td>26279378</td>\n",
       "    </tr>\n",
       "  </tbody>\n",
       "</table>\n",
       "</div>"
      ],
      "text/plain": [
       "             open   high    low  close    volume\n",
       "date                                            \n",
       "2015-01-07  14.78  15.09  14.77  15.04  26065329\n",
       "2015-01-08  15.40  15.48  15.23  15.42  33943398\n",
       "2015-01-09  15.46  15.47  15.06  15.21  23420750\n",
       "2015-01-12  15.31  15.32  15.11  15.22  22750784\n",
       "2015-01-13  15.38  15.48  15.08  15.21  26279378"
      ]
     },
     "execution_count": 4,
     "metadata": {},
     "output_type": "execute_result"
    }
   ],
   "source": [
    "F.head()"
   ]
  },
  {
   "cell_type": "code",
   "execution_count": null,
   "metadata": {},
   "outputs": [],
   "source": []
  },
  {
   "cell_type": "markdown",
   "metadata": {},
   "source": [
    "Practice extracting closing price data from the same source and for the same timeframe. Do this for Apple, Microsoft, Exxon, and British Petroleum. \n",
    "Use IEX to find the tickers of these companies, if you don’t already know them. "
   ]
  },
  {
   "cell_type": "code",
   "execution_count": null,
   "metadata": {},
   "outputs": [],
   "source": []
  },
  {
   "cell_type": "code",
   "execution_count": null,
   "metadata": {},
   "outputs": [],
   "source": []
  },
  {
   "cell_type": "code",
   "execution_count": null,
   "metadata": {},
   "outputs": [],
   "source": []
  },
  {
   "cell_type": "markdown",
   "metadata": {},
   "source": [
    "***"
   ]
  },
  {
   "cell_type": "markdown",
   "metadata": {},
   "source": [
    "Repeat this exercise for any stock of interest to you. :)"
   ]
  }
 ],
 "metadata": {
  "kernelspec": {
   "display_name": "Python 3",
   "language": "python",
   "name": "python3"
  },
  "language_info": {
   "codemirror_mode": {
    "name": "ipython",
    "version": 3
   },
   "file_extension": ".py",
   "mimetype": "text/x-python",
   "name": "python",
   "nbconvert_exporter": "python",
   "pygments_lexer": "ipython3",
   "version": "3.7.4"
  }
 },
 "nbformat": 4,
 "nbformat_minor": 2
}
