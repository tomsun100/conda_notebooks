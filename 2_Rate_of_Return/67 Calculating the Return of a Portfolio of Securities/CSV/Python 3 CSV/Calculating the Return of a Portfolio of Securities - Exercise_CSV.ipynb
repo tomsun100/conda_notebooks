{
 "cells": [
  {
   "cell_type": "markdown",
   "metadata": {},
   "source": [
    "## Calculating the Return of a Portfolio of Securities"
   ]
  },
  {
   "cell_type": "markdown",
   "metadata": {},
   "source": [
    "Load the data for a portfolio composed of 5 stocks - British Petroleum, Ford, Exxon, Lincoln, and Apple *(5_stocks_2000_2017.csv)*."
   ]
  },
  {
   "cell_type": "code",
   "execution_count": 14,
   "metadata": {},
   "outputs": [],
   "source": [
    "import numpy as np\n",
    "import pandas as pd\n",
    "import matplotlib.pyplot as plt"
   ]
  },
  {
   "cell_type": "code",
   "execution_count": 2,
   "metadata": {},
   "outputs": [],
   "source": [
    "portfolio = pd.read_csv('5_stocks_2000_2017.csv', index_col='Date')"
   ]
  },
  {
   "cell_type": "code",
   "execution_count": 3,
   "metadata": {},
   "outputs": [
    {
     "name": "stdout",
     "output_type": "stream",
     "text": [
      "<class 'pandas.core.frame.DataFrame'>\n",
      "Index: 4517 entries, 1999-12-31 to 2017-12-12\n",
      "Data columns (total 5 columns):\n",
      "BP      4517 non-null float64\n",
      "F       4517 non-null float64\n",
      "XOM     4517 non-null float64\n",
      "LNC     4517 non-null float64\n",
      "AAPL    4517 non-null float64\n",
      "dtypes: float64(5)\n",
      "memory usage: 211.7+ KB\n"
     ]
    }
   ],
   "source": [
    "portfolio.info()"
   ]
  },
  {
   "cell_type": "code",
   "execution_count": 4,
   "metadata": {},
   "outputs": [
    {
     "data": {
      "text/html": [
       "<div>\n",
       "<style scoped>\n",
       "    .dataframe tbody tr th:only-of-type {\n",
       "        vertical-align: middle;\n",
       "    }\n",
       "\n",
       "    .dataframe tbody tr th {\n",
       "        vertical-align: top;\n",
       "    }\n",
       "\n",
       "    .dataframe thead th {\n",
       "        text-align: right;\n",
       "    }\n",
       "</style>\n",
       "<table border=\"1\" class=\"dataframe\">\n",
       "  <thead>\n",
       "    <tr style=\"text-align: right;\">\n",
       "      <th></th>\n",
       "      <th>BP</th>\n",
       "      <th>F</th>\n",
       "      <th>XOM</th>\n",
       "      <th>LNC</th>\n",
       "      <th>AAPL</th>\n",
       "    </tr>\n",
       "    <tr>\n",
       "      <th>Date</th>\n",
       "      <th></th>\n",
       "      <th></th>\n",
       "      <th></th>\n",
       "      <th></th>\n",
       "      <th></th>\n",
       "    </tr>\n",
       "  </thead>\n",
       "  <tbody>\n",
       "    <tr>\n",
       "      <td>1999-12-31</td>\n",
       "      <td>26.942526</td>\n",
       "      <td>17.911160</td>\n",
       "      <td>25.595554</td>\n",
       "      <td>27.138775</td>\n",
       "      <td>3.291592</td>\n",
       "    </tr>\n",
       "    <tr>\n",
       "      <td>2000-01-03</td>\n",
       "      <td>26.715410</td>\n",
       "      <td>17.596191</td>\n",
       "      <td>24.880707</td>\n",
       "      <td>26.502689</td>\n",
       "      <td>3.583733</td>\n",
       "    </tr>\n",
       "    <tr>\n",
       "      <td>2000-01-04</td>\n",
       "      <td>26.573452</td>\n",
       "      <td>17.008251</td>\n",
       "      <td>24.404148</td>\n",
       "      <td>25.739405</td>\n",
       "      <td>3.281587</td>\n",
       "    </tr>\n",
       "    <tr>\n",
       "      <td>2000-01-05</td>\n",
       "      <td>27.481936</td>\n",
       "      <td>17.071245</td>\n",
       "      <td>25.734549</td>\n",
       "      <td>24.848928</td>\n",
       "      <td>3.329610</td>\n",
       "    </tr>\n",
       "    <tr>\n",
       "      <td>2000-01-06</td>\n",
       "      <td>27.538712</td>\n",
       "      <td>17.092241</td>\n",
       "      <td>27.064951</td>\n",
       "      <td>25.303717</td>\n",
       "      <td>3.041471</td>\n",
       "    </tr>\n",
       "  </tbody>\n",
       "</table>\n",
       "</div>"
      ],
      "text/plain": [
       "                   BP          F        XOM        LNC      AAPL\n",
       "Date                                                            \n",
       "1999-12-31  26.942526  17.911160  25.595554  27.138775  3.291592\n",
       "2000-01-03  26.715410  17.596191  24.880707  26.502689  3.583733\n",
       "2000-01-04  26.573452  17.008251  24.404148  25.739405  3.281587\n",
       "2000-01-05  27.481936  17.071245  25.734549  24.848928  3.329610\n",
       "2000-01-06  27.538712  17.092241  27.064951  25.303717  3.041471"
      ]
     },
     "execution_count": 4,
     "metadata": {},
     "output_type": "execute_result"
    }
   ],
   "source": [
    "portfolio.head()"
   ]
  },
  {
   "cell_type": "code",
   "execution_count": 5,
   "metadata": {},
   "outputs": [
    {
     "data": {
      "text/html": [
       "<div>\n",
       "<style scoped>\n",
       "    .dataframe tbody tr th:only-of-type {\n",
       "        vertical-align: middle;\n",
       "    }\n",
       "\n",
       "    .dataframe tbody tr th {\n",
       "        vertical-align: top;\n",
       "    }\n",
       "\n",
       "    .dataframe thead th {\n",
       "        text-align: right;\n",
       "    }\n",
       "</style>\n",
       "<table border=\"1\" class=\"dataframe\">\n",
       "  <thead>\n",
       "    <tr style=\"text-align: right;\">\n",
       "      <th></th>\n",
       "      <th>BP</th>\n",
       "      <th>F</th>\n",
       "      <th>XOM</th>\n",
       "      <th>LNC</th>\n",
       "      <th>AAPL</th>\n",
       "    </tr>\n",
       "    <tr>\n",
       "      <th>Date</th>\n",
       "      <th></th>\n",
       "      <th></th>\n",
       "      <th></th>\n",
       "      <th></th>\n",
       "      <th></th>\n",
       "    </tr>\n",
       "  </thead>\n",
       "  <tbody>\n",
       "    <tr>\n",
       "      <td>2017-12-06</td>\n",
       "      <td>39.580002</td>\n",
       "      <td>12.3800</td>\n",
       "      <td>82.279999</td>\n",
       "      <td>76.500000</td>\n",
       "      <td>169.009995</td>\n",
       "    </tr>\n",
       "    <tr>\n",
       "      <td>2017-12-07</td>\n",
       "      <td>39.310001</td>\n",
       "      <td>12.5300</td>\n",
       "      <td>82.550003</td>\n",
       "      <td>77.589996</td>\n",
       "      <td>169.320007</td>\n",
       "    </tr>\n",
       "    <tr>\n",
       "      <td>2017-12-08</td>\n",
       "      <td>39.639999</td>\n",
       "      <td>12.6100</td>\n",
       "      <td>82.660004</td>\n",
       "      <td>78.540001</td>\n",
       "      <td>169.369995</td>\n",
       "    </tr>\n",
       "    <tr>\n",
       "      <td>2017-12-11</td>\n",
       "      <td>39.930000</td>\n",
       "      <td>12.5800</td>\n",
       "      <td>83.029999</td>\n",
       "      <td>77.169998</td>\n",
       "      <td>172.669998</td>\n",
       "    </tr>\n",
       "    <tr>\n",
       "      <td>2017-12-12</td>\n",
       "      <td>40.709999</td>\n",
       "      <td>12.5242</td>\n",
       "      <td>83.313904</td>\n",
       "      <td>77.559998</td>\n",
       "      <td>172.059998</td>\n",
       "    </tr>\n",
       "  </tbody>\n",
       "</table>\n",
       "</div>"
      ],
      "text/plain": [
       "                   BP        F        XOM        LNC        AAPL\n",
       "Date                                                            \n",
       "2017-12-06  39.580002  12.3800  82.279999  76.500000  169.009995\n",
       "2017-12-07  39.310001  12.5300  82.550003  77.589996  169.320007\n",
       "2017-12-08  39.639999  12.6100  82.660004  78.540001  169.369995\n",
       "2017-12-11  39.930000  12.5800  83.029999  77.169998  172.669998\n",
       "2017-12-12  40.709999  12.5242  83.313904  77.559998  172.059998"
      ]
     },
     "execution_count": 5,
     "metadata": {},
     "output_type": "execute_result"
    }
   ],
   "source": [
    "portfolio.tail()"
   ]
  },
  {
   "cell_type": "markdown",
   "metadata": {},
   "source": [
    "### Normalization to 100:\n",
    "\n",
    "$$\n",
    "\\frac {P_t}{P_0} * 100\n",
    "$$"
   ]
  },
  {
   "cell_type": "markdown",
   "metadata": {},
   "source": [
    "Normalize to a hundred and plot the data on a graph (you can apply the .loc() or the .iloc() method). "
   ]
  },
  {
   "cell_type": "code",
   "execution_count": 6,
   "metadata": {},
   "outputs": [
    {
     "data": {
      "image/png": "[encoded data removed]",
      "text/plain": [
       "<Figure size 1080x432 with 1 Axes>"
      ]
     },
     "metadata": {
      "needs_background": "light"
     },
     "output_type": "display_data"
    }
   ],
   "source": [
    "(portfolio / portfolio.iloc[0] * 100).plot(figsize = (15, 6));\n",
    "plt.show()"
   ]
  },
  {
   "cell_type": "markdown",
   "metadata": {
    "collapsed": true
   },
   "source": [
    "Looks like AAPL has runaway success. "
   ]
  },
  {
   "cell_type": "markdown",
   "metadata": {},
   "source": [
    "How would you interpret the behavior of the stocks? Just by looking at the chart, would you be able to create a portfolio that provides a solid return on investment?"
   ]
  },
  {
   "cell_type": "markdown",
   "metadata": {},
   "source": [
    "*****"
   ]
  },
  {
   "cell_type": "markdown",
   "metadata": {},
   "source": [
    "### Calculating the Return of a Portfolio of Securities"
   ]
  },
  {
   "cell_type": "markdown",
   "metadata": {},
   "source": [
    "Obtain the simple return of the securities in the portfolio and store the results in a new table."
   ]
  },
  {
   "cell_type": "code",
   "execution_count": 10,
   "metadata": {},
   "outputs": [],
   "source": [
    "returns = (portfolio / portfolio.shift(1)) - 1"
   ]
  },
  {
   "cell_type": "code",
   "execution_count": 11,
   "metadata": {},
   "outputs": [
    {
     "data": {
      "text/html": [
       "<div>\n",
       "<style scoped>\n",
       "    .dataframe tbody tr th:only-of-type {\n",
       "        vertical-align: middle;\n",
       "    }\n",
       "\n",
       "    .dataframe tbody tr th {\n",
       "        vertical-align: top;\n",
       "    }\n",
       "\n",
       "    .dataframe thead th {\n",
       "        text-align: right;\n",
       "    }\n",
       "</style>\n",
       "<table border=\"1\" class=\"dataframe\">\n",
       "  <thead>\n",
       "    <tr style=\"text-align: right;\">\n",
       "      <th></th>\n",
       "      <th>BP</th>\n",
       "      <th>F</th>\n",
       "      <th>XOM</th>\n",
       "      <th>LNC</th>\n",
       "      <th>AAPL</th>\n",
       "    </tr>\n",
       "    <tr>\n",
       "      <th>Date</th>\n",
       "      <th></th>\n",
       "      <th></th>\n",
       "      <th></th>\n",
       "      <th></th>\n",
       "      <th></th>\n",
       "    </tr>\n",
       "  </thead>\n",
       "  <tbody>\n",
       "    <tr>\n",
       "      <td>1999-12-31</td>\n",
       "      <td>NaN</td>\n",
       "      <td>NaN</td>\n",
       "      <td>NaN</td>\n",
       "      <td>NaN</td>\n",
       "      <td>NaN</td>\n",
       "    </tr>\n",
       "    <tr>\n",
       "      <td>2000-01-03</td>\n",
       "      <td>-0.008430</td>\n",
       "      <td>-0.017585</td>\n",
       "      <td>-0.027929</td>\n",
       "      <td>-0.023438</td>\n",
       "      <td>0.088754</td>\n",
       "    </tr>\n",
       "    <tr>\n",
       "      <td>2000-01-04</td>\n",
       "      <td>-0.005314</td>\n",
       "      <td>-0.033413</td>\n",
       "      <td>-0.019154</td>\n",
       "      <td>-0.028800</td>\n",
       "      <td>-0.084310</td>\n",
       "    </tr>\n",
       "    <tr>\n",
       "      <td>2000-01-05</td>\n",
       "      <td>0.034188</td>\n",
       "      <td>0.003704</td>\n",
       "      <td>0.054515</td>\n",
       "      <td>-0.034596</td>\n",
       "      <td>0.014634</td>\n",
       "    </tr>\n",
       "    <tr>\n",
       "      <td>2000-01-06</td>\n",
       "      <td>0.002066</td>\n",
       "      <td>0.001230</td>\n",
       "      <td>0.051697</td>\n",
       "      <td>0.018302</td>\n",
       "      <td>-0.086538</td>\n",
       "    </tr>\n",
       "  </tbody>\n",
       "</table>\n",
       "</div>"
      ],
      "text/plain": [
       "                  BP         F       XOM       LNC      AAPL\n",
       "Date                                                        \n",
       "1999-12-31       NaN       NaN       NaN       NaN       NaN\n",
       "2000-01-03 -0.008430 -0.017585 -0.027929 -0.023438  0.088754\n",
       "2000-01-04 -0.005314 -0.033413 -0.019154 -0.028800 -0.084310\n",
       "2000-01-05  0.034188  0.003704  0.054515 -0.034596  0.014634\n",
       "2000-01-06  0.002066  0.001230  0.051697  0.018302 -0.086538"
      ]
     },
     "execution_count": 11,
     "metadata": {},
     "output_type": "execute_result"
    }
   ],
   "source": [
    "returns.head()"
   ]
  },
  {
   "cell_type": "markdown",
   "metadata": {},
   "source": [
    "First, assume you would like to create an equally-weighted portfolio. Create the array, naming it “weights”."
   ]
  },
  {
   "cell_type": "code",
   "execution_count": 12,
   "metadata": {},
   "outputs": [],
   "source": [
    "weights = [0.2, 0.2, 0.2, 0.2, 0.2]"
   ]
  },
  {
   "cell_type": "markdown",
   "metadata": {},
   "source": [
    "Obtain the annual returns of each of the stocks and then calculate the dot product of these returns and the weights."
   ]
  },
  {
   "cell_type": "code",
   "execution_count": 20,
   "metadata": {},
   "outputs": [],
   "source": [
    "annual_returns = returns.mean() * 250\n",
    "\n",
    "portfolio_annual_returns = np.dot(annual_returns, weights)"
   ]
  },
  {
   "cell_type": "code",
   "execution_count": 27,
   "metadata": {},
   "outputs": [
    {
     "name": "stdout",
     "output_type": "stream",
     "text": [
      "14.701%\n"
     ]
    }
   ],
   "source": [
    "print(str(round(portfolio_annual_returns*100, 3)) + \"%\")"
   ]
  },
  {
   "cell_type": "markdown",
   "metadata": {},
   "source": [
    "Transform the result into a percentage form. "
   ]
  },
  {
   "cell_type": "markdown",
   "metadata": {
    "collapsed": true
   },
   "source": [
    "Yes this is satisfactory return. "
   ]
  },
  {
   "cell_type": "markdown",
   "metadata": {},
   "source": [
    "Is the return of this portfolio satisfactory?"
   ]
  }
 ],
 "metadata": {
  "kernelspec": {
   "display_name": "Python 3",
   "language": "python",
   "name": "python3"
  },
  "language_info": {
   "codemirror_mode": {
    "name": "ipython",
    "version": 3
   },
   "file_extension": ".py",
   "mimetype": "text/x-python",
   "name": "python",
   "nbconvert_exporter": "python",
   "pygments_lexer": "ipython3",
   "version": "3.7.4"
  }
 },
 "nbformat": 4,
 "nbformat_minor": 2
}
