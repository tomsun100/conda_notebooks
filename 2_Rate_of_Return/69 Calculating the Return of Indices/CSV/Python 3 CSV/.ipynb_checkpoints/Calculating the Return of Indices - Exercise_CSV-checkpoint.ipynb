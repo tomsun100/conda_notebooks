{
 "cells": [
  {
   "cell_type": "markdown",
   "metadata": {},
   "source": [
    "## Calculating the Return of Indices"
   ]
  },
  {
   "cell_type": "markdown",
   "metadata": {},
   "source": [
    "Consider three famous American market indices – Dow Jones, S&P 500, and the Nasdaq for the period of 1st of January 2000 until today."
   ]
  },
  {
   "cell_type": "code",
   "execution_count": 1,
   "metadata": {},
   "outputs": [],
   "source": [
    "import numpy as np\n",
    "import pandas as pd\n",
    "from pandas_datareader import data as wb\n",
    "import matplotlib.pyplot as plt"
   ]
  },
  {
   "cell_type": "code",
   "execution_count": 5,
   "metadata": {},
   "outputs": [
    {
     "data": {
      "text/html": [
       "<div>\n",
       "<style scoped>\n",
       "    .dataframe tbody tr th:only-of-type {\n",
       "        vertical-align: middle;\n",
       "    }\n",
       "\n",
       "    .dataframe tbody tr th {\n",
       "        vertical-align: top;\n",
       "    }\n",
       "\n",
       "    .dataframe thead th {\n",
       "        text-align: right;\n",
       "    }\n",
       "</style>\n",
       "<table border=\"1\" class=\"dataframe\">\n",
       "  <thead>\n",
       "    <tr style=\"text-align: right;\">\n",
       "      <th></th>\n",
       "      <th>^DJI</th>\n",
       "      <th>^GSPC</th>\n",
       "      <th>^IXIC</th>\n",
       "    </tr>\n",
       "    <tr>\n",
       "      <th>Date</th>\n",
       "      <th></th>\n",
       "      <th></th>\n",
       "      <th></th>\n",
       "    </tr>\n",
       "  </thead>\n",
       "  <tbody>\n",
       "    <tr>\n",
       "      <td>2017-12-06</td>\n",
       "      <td>24140.910156</td>\n",
       "      <td>2629.270020</td>\n",
       "      <td>6776.379883</td>\n",
       "    </tr>\n",
       "    <tr>\n",
       "      <td>2017-12-07</td>\n",
       "      <td>24211.480469</td>\n",
       "      <td>2636.979980</td>\n",
       "      <td>6812.839844</td>\n",
       "    </tr>\n",
       "    <tr>\n",
       "      <td>2017-12-08</td>\n",
       "      <td>24329.160156</td>\n",
       "      <td>2651.500000</td>\n",
       "      <td>6840.080078</td>\n",
       "    </tr>\n",
       "    <tr>\n",
       "      <td>2017-12-11</td>\n",
       "      <td>24386.029297</td>\n",
       "      <td>2659.989990</td>\n",
       "      <td>6875.080078</td>\n",
       "    </tr>\n",
       "    <tr>\n",
       "      <td>2017-12-12</td>\n",
       "      <td>24504.800781</td>\n",
       "      <td>2664.110107</td>\n",
       "      <td>6862.319824</td>\n",
       "    </tr>\n",
       "  </tbody>\n",
       "</table>\n",
       "</div>"
      ],
      "text/plain": [
       "                    ^DJI        ^GSPC        ^IXIC\n",
       "Date                                              \n",
       "2017-12-06  24140.910156  2629.270020  6776.379883\n",
       "2017-12-07  24211.480469  2636.979980  6812.839844\n",
       "2017-12-08  24329.160156  2651.500000  6840.080078\n",
       "2017-12-11  24386.029297  2659.989990  6875.080078\n",
       "2017-12-12  24504.800781  2664.110107  6862.319824"
      ]
     },
     "execution_count": 5,
     "metadata": {},
     "output_type": "execute_result"
    }
   ],
   "source": [
    "ind_data = pd.read_csv('Indices_Exercise_Data.csv', index_col='Date')\n",
    "ind_data.head()"
   ]
  },
  {
   "cell_type": "code",
   "execution_count": 6,
   "metadata": {},
   "outputs": [
    {
     "data": {
      "text/html": [
       "<div>\n",
       "<style scoped>\n",
       "    .dataframe tbody tr th:only-of-type {\n",
       "        vertical-align: middle;\n",
       "    }\n",
       "\n",
       "    .dataframe tbody tr th {\n",
       "        vertical-align: top;\n",
       "    }\n",
       "\n",
       "    .dataframe thead th {\n",
       "        text-align: right;\n",
       "    }\n",
       "</style>\n",
       "<table border=\"1\" class=\"dataframe\">\n",
       "  <thead>\n",
       "    <tr style=\"text-align: right;\">\n",
       "      <th></th>\n",
       "      <th>^DJI</th>\n",
       "      <th>^GSPC</th>\n",
       "      <th>^IXIC</th>\n",
       "    </tr>\n",
       "    <tr>\n",
       "      <th>Date</th>\n",
       "      <th></th>\n",
       "      <th></th>\n",
       "      <th></th>\n",
       "    </tr>\n",
       "  </thead>\n",
       "  <tbody>\n",
       "    <tr>\n",
       "      <td>2017-12-06</td>\n",
       "      <td>24140.910156</td>\n",
       "      <td>2629.270020</td>\n",
       "      <td>6776.379883</td>\n",
       "    </tr>\n",
       "    <tr>\n",
       "      <td>2017-12-07</td>\n",
       "      <td>24211.480469</td>\n",
       "      <td>2636.979980</td>\n",
       "      <td>6812.839844</td>\n",
       "    </tr>\n",
       "    <tr>\n",
       "      <td>2017-12-08</td>\n",
       "      <td>24329.160156</td>\n",
       "      <td>2651.500000</td>\n",
       "      <td>6840.080078</td>\n",
       "    </tr>\n",
       "    <tr>\n",
       "      <td>2017-12-11</td>\n",
       "      <td>24386.029297</td>\n",
       "      <td>2659.989990</td>\n",
       "      <td>6875.080078</td>\n",
       "    </tr>\n",
       "    <tr>\n",
       "      <td>2017-12-12</td>\n",
       "      <td>24504.800781</td>\n",
       "      <td>2664.110107</td>\n",
       "      <td>6862.319824</td>\n",
       "    </tr>\n",
       "  </tbody>\n",
       "</table>\n",
       "</div>"
      ],
      "text/plain": [
       "                    ^DJI        ^GSPC        ^IXIC\n",
       "Date                                              \n",
       "2017-12-06  24140.910156  2629.270020  6776.379883\n",
       "2017-12-07  24211.480469  2636.979980  6812.839844\n",
       "2017-12-08  24329.160156  2651.500000  6840.080078\n",
       "2017-12-11  24386.029297  2659.989990  6875.080078\n",
       "2017-12-12  24504.800781  2664.110107  6862.319824"
      ]
     },
     "execution_count": 6,
     "metadata": {},
     "output_type": "execute_result"
    }
   ],
   "source": [
    "ind_data.tail()"
   ]
  },
  {
   "cell_type": "markdown",
   "metadata": {},
   "source": [
    "Normalize the data to 100 and plot the results on a graph. "
   ]
  },
  {
   "cell_type": "code",
   "execution_count": null,
   "metadata": {
    "collapsed": true
   },
   "outputs": [],
   "source": []
  },
  {
   "cell_type": "markdown",
   "metadata": {},
   "source": [
    "How would you explain the common and the different parts of the behavior of the three indices?"
   ]
  },
  {
   "cell_type": "markdown",
   "metadata": {},
   "source": [
    "*****"
   ]
  },
  {
   "cell_type": "markdown",
   "metadata": {},
   "source": [
    "Obtain the simple returns of the indices."
   ]
  },
  {
   "cell_type": "code",
   "execution_count": null,
   "metadata": {
    "collapsed": true
   },
   "outputs": [],
   "source": []
  },
  {
   "cell_type": "markdown",
   "metadata": {},
   "source": [
    "Estimate the average annual return of each index."
   ]
  },
  {
   "cell_type": "code",
   "execution_count": null,
   "metadata": {
    "collapsed": true
   },
   "outputs": [],
   "source": []
  }
 ],
 "metadata": {
  "kernelspec": {
   "display_name": "Python 3",
   "language": "python",
   "name": "python3"
  },
  "language_info": {
   "codemirror_mode": {
    "name": "ipython",
    "version": 3
   },
   "file_extension": ".py",
   "mimetype": "text/x-python",
   "name": "python",
   "nbconvert_exporter": "python",
   "pygments_lexer": "ipython3",
   "version": "3.7.4"
  }
 },
 "nbformat": 4,
 "nbformat_minor": 2
}
