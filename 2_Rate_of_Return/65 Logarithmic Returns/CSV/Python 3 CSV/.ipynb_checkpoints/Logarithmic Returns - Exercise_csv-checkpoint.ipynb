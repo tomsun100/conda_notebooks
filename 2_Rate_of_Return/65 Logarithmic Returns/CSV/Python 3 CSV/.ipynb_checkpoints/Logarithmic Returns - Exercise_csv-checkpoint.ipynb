{
 "cells": [
  {
   "cell_type": "markdown",
   "metadata": {},
   "source": [
    "## Logarithmic Returns"
   ]
  },
  {
   "cell_type": "code",
   "execution_count": 2,
   "metadata": {},
   "outputs": [
    {
     "data": {
      "text/html": [
       "<div>\n",
       "<style scoped>\n",
       "    .dataframe tbody tr th:only-of-type {\n",
       "        vertical-align: middle;\n",
       "    }\n",
       "\n",
       "    .dataframe tbody tr th {\n",
       "        vertical-align: top;\n",
       "    }\n",
       "\n",
       "    .dataframe thead th {\n",
       "        text-align: right;\n",
       "    }\n",
       "</style>\n",
       "<table border=\"1\" class=\"dataframe\">\n",
       "  <thead>\n",
       "    <tr style=\"text-align: right;\">\n",
       "      <th></th>\n",
       "      <th>Open</th>\n",
       "      <th>High</th>\n",
       "      <th>Low</th>\n",
       "      <th>Close</th>\n",
       "      <th>Adj Close</th>\n",
       "      <th>Volume</th>\n",
       "    </tr>\n",
       "    <tr>\n",
       "      <th>Date</th>\n",
       "      <th></th>\n",
       "      <th></th>\n",
       "      <th></th>\n",
       "      <th></th>\n",
       "      <th></th>\n",
       "      <th></th>\n",
       "    </tr>\n",
       "  </thead>\n",
       "  <tbody>\n",
       "    <tr>\n",
       "      <td>1999-12-31</td>\n",
       "      <td>58.750000</td>\n",
       "      <td>58.875000</td>\n",
       "      <td>58.125000</td>\n",
       "      <td>58.375000</td>\n",
       "      <td>38.771053</td>\n",
       "      <td>12517600</td>\n",
       "    </tr>\n",
       "    <tr>\n",
       "      <td>2000-01-03</td>\n",
       "      <td>58.687500</td>\n",
       "      <td>59.312500</td>\n",
       "      <td>56.000000</td>\n",
       "      <td>58.281250</td>\n",
       "      <td>38.708794</td>\n",
       "      <td>53228400</td>\n",
       "    </tr>\n",
       "    <tr>\n",
       "      <td>2000-01-04</td>\n",
       "      <td>56.781250</td>\n",
       "      <td>58.562500</td>\n",
       "      <td>56.125000</td>\n",
       "      <td>56.312500</td>\n",
       "      <td>37.401215</td>\n",
       "      <td>54119000</td>\n",
       "    </tr>\n",
       "    <tr>\n",
       "      <td>2000-01-05</td>\n",
       "      <td>55.562500</td>\n",
       "      <td>58.187500</td>\n",
       "      <td>54.687500</td>\n",
       "      <td>56.906250</td>\n",
       "      <td>37.795563</td>\n",
       "      <td>64059600</td>\n",
       "    </tr>\n",
       "    <tr>\n",
       "      <td>2000-01-06</td>\n",
       "      <td>56.093750</td>\n",
       "      <td>56.937500</td>\n",
       "      <td>54.187500</td>\n",
       "      <td>55.000000</td>\n",
       "      <td>36.529484</td>\n",
       "      <td>54976600</td>\n",
       "    </tr>\n",
       "    <tr>\n",
       "      <td>...</td>\n",
       "      <td>...</td>\n",
       "      <td>...</td>\n",
       "      <td>...</td>\n",
       "      <td>...</td>\n",
       "      <td>...</td>\n",
       "      <td>...</td>\n",
       "    </tr>\n",
       "    <tr>\n",
       "      <td>2017-12-06</td>\n",
       "      <td>81.550003</td>\n",
       "      <td>83.139999</td>\n",
       "      <td>81.430000</td>\n",
       "      <td>82.779999</td>\n",
       "      <td>82.779999</td>\n",
       "      <td>26162100</td>\n",
       "    </tr>\n",
       "    <tr>\n",
       "      <td>2017-12-07</td>\n",
       "      <td>82.540001</td>\n",
       "      <td>82.800003</td>\n",
       "      <td>82.000000</td>\n",
       "      <td>82.489998</td>\n",
       "      <td>82.489998</td>\n",
       "      <td>23184500</td>\n",
       "    </tr>\n",
       "    <tr>\n",
       "      <td>2017-12-08</td>\n",
       "      <td>83.629997</td>\n",
       "      <td>84.580002</td>\n",
       "      <td>83.330002</td>\n",
       "      <td>84.160004</td>\n",
       "      <td>84.160004</td>\n",
       "      <td>24489100</td>\n",
       "    </tr>\n",
       "    <tr>\n",
       "      <td>2017-12-11</td>\n",
       "      <td>84.290001</td>\n",
       "      <td>85.370003</td>\n",
       "      <td>84.120003</td>\n",
       "      <td>85.230003</td>\n",
       "      <td>85.230003</td>\n",
       "      <td>20121700</td>\n",
       "    </tr>\n",
       "    <tr>\n",
       "      <td>2017-12-12</td>\n",
       "      <td>85.309998</td>\n",
       "      <td>86.050003</td>\n",
       "      <td>85.080002</td>\n",
       "      <td>85.529999</td>\n",
       "      <td>85.529999</td>\n",
       "      <td>7805031</td>\n",
       "    </tr>\n",
       "  </tbody>\n",
       "</table>\n",
       "<p>4517 rows × 6 columns</p>\n",
       "</div>"
      ],
      "text/plain": [
       "                 Open       High        Low      Close  Adj Close    Volume\n",
       "Date                                                                       \n",
       "1999-12-31  58.750000  58.875000  58.125000  58.375000  38.771053  12517600\n",
       "2000-01-03  58.687500  59.312500  56.000000  58.281250  38.708794  53228400\n",
       "2000-01-04  56.781250  58.562500  56.125000  56.312500  37.401215  54119000\n",
       "2000-01-05  55.562500  58.187500  54.687500  56.906250  37.795563  64059600\n",
       "2000-01-06  56.093750  56.937500  54.187500  55.000000  36.529484  54976600\n",
       "...               ...        ...        ...        ...        ...       ...\n",
       "2017-12-06  81.550003  83.139999  81.430000  82.779999  82.779999  26162100\n",
       "2017-12-07  82.540001  82.800003  82.000000  82.489998  82.489998  23184500\n",
       "2017-12-08  83.629997  84.580002  83.330002  84.160004  84.160004  24489100\n",
       "2017-12-11  84.290001  85.370003  84.120003  85.230003  85.230003  20121700\n",
       "2017-12-12  85.309998  86.050003  85.080002  85.529999  85.529999   7805031\n",
       "\n",
       "[4517 rows x 6 columns]"
      ]
     },
     "execution_count": 2,
     "metadata": {},
     "output_type": "execute_result"
    }
   ],
   "source": [
    "import numpy as np\n",
    "import pandas as pd\n",
    "from pandas_datareader import data as wb\n",
    "import matplotlib.pyplot as plt\n",
    "MSFT = pd.read_csv('MSFT_2000_2017.csv', index_col = 'Date')\n",
    "MSFT"
   ]
  },
  {
   "cell_type": "markdown",
   "metadata": {},
   "source": [
    "### Log Returns"
   ]
  },
  {
   "cell_type": "markdown",
   "metadata": {},
   "source": [
    "$$\n",
    "ln(\\frac{P_t}{P_{t-1}})\n",
    "$$"
   ]
  },
  {
   "cell_type": "markdown",
   "metadata": {},
   "source": [
    "Calculate the Log returns for Microsoft."
   ]
  },
  {
   "cell_type": "code",
   "execution_count": 4,
   "metadata": {},
   "outputs": [
    {
     "name": "stdout",
     "output_type": "stream",
     "text": [
      "Date\n",
      "1999-12-31         NaN\n",
      "2000-01-03   -0.001606\n",
      "2000-01-04   -0.033780\n",
      "2000-01-05    0.010544\n",
      "2000-01-06   -0.033498\n",
      "                ...   \n",
      "2017-12-06    0.014585\n",
      "2017-12-07   -0.003503\n",
      "2017-12-08    0.020245\n",
      "2017-12-11    0.012714\n",
      "2017-12-12    0.003520\n",
      "Name: simple_return, Length: 4517, dtype: float64\n"
     ]
    }
   ],
   "source": [
    "MSFT['simple_return'] = (MSFT['Adj Close'] / MSFT['Adj Close'].shift(1)) - 1\n",
    "print(MSFT['simple_return'])"
   ]
  },
  {
   "cell_type": "markdown",
   "metadata": {},
   "source": [
    "Plot the results on a graph."
   ]
  },
  {
   "cell_type": "code",
   "execution_count": 5,
   "metadata": {},
   "outputs": [
    {
     "data": {
      "image/png": "[encoded data removed]",
      "text/plain": [
       "<Figure size 576x360 with 1 Axes>"
      ]
     },
     "metadata": {
      "needs_background": "light"
     },
     "output_type": "display_data"
    }
   ],
   "source": [
    "MSFT['simple_return'].plot(figsize=(8, 5))\n",
    "plt.show()"
   ]
  },
  {
   "cell_type": "markdown",
   "metadata": {},
   "source": [
    "Estimate the daily and the annual mean of the obtained log returns."
   ]
  },
  {
   "cell_type": "code",
   "execution_count": 6,
   "metadata": {},
   "outputs": [
    {
     "data": {
      "text/plain": [
       "0.0003625088770275453"
      ]
     },
     "execution_count": 6,
     "metadata": {},
     "output_type": "execute_result"
    }
   ],
   "source": [
    "avg_returns_d = MSFT['simple_return'].mean()\n",
    "avg_returns_d"
   ]
  },
  {
   "cell_type": "code",
   "execution_count": null,
   "metadata": {
    "collapsed": true
   },
   "outputs": [],
   "source": []
  },
  {
   "cell_type": "markdown",
   "metadata": {},
   "source": [
    "Print the result in a presentable form."
   ]
  },
  {
   "cell_type": "code",
   "execution_count": null,
   "metadata": {
    "collapsed": true
   },
   "outputs": [],
   "source": []
  },
  {
   "cell_type": "markdown",
   "metadata": {},
   "source": [
    "****"
   ]
  },
  {
   "cell_type": "markdown",
   "metadata": {},
   "source": [
    "Repeat this exercise for any stock of interest to you. :)"
   ]
  }
 ],
 "metadata": {
  "kernelspec": {
   "display_name": "Python 3",
   "language": "python",
   "name": "python3"
  },
  "language_info": {
   "codemirror_mode": {
    "name": "ipython",
    "version": 3
   },
   "file_extension": ".py",
   "mimetype": "text/x-python",
   "name": "python",
   "nbconvert_exporter": "python",
   "pygments_lexer": "ipython3",
   "version": "3.7.4"
  }
 },
 "nbformat": 4,
 "nbformat_minor": 2
}
